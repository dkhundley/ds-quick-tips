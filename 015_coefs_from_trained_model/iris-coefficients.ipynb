{
 "cells": [
  {
   "cell_type": "code",
   "execution_count": 1,
   "id": "cb81ac13",
   "metadata": {},
   "outputs": [],
   "source": [
    "# Importing the necessary Python libraries\n",
    "import numpy as np\n",
    "import pandas as pd\n",
    "from sklearn.model_selection import train_test_split\n",
    "from sklearn import datasets\n",
    "from sklearn.ensemble import RandomForestClassifier\n",
    "from sklearn.metrics import accuracy_score, confusion_matrix\n",
    "\n",
    "import warnings\n",
    "warnings.filterwarnings('ignore')"
   ]
  },
  {
   "cell_type": "code",
   "execution_count": 2,
   "id": "8ea40485",
   "metadata": {},
   "outputs": [],
   "source": [
    "# Getting the Iris dataset from Scikit-Learn\n",
    "iris = datasets.load_iris()\n",
    "\n",
    "# Loading the predictor value (y) and remainder of the training dataset (X) as Pandas DataFrames\n",
    "X = pd.DataFrame(data = iris['data'], columns = iris['feature_names'])\n",
    "y = pd.DataFrame(data = iris['target'], columns = ['target'])\n",
    "\n",
    "# Performing a train_test_split on the dataset\n",
    "X_train, X_val, y_train, y_val = train_test_split(X, y)"
   ]
  },
  {
   "cell_type": "code",
   "execution_count": 3,
   "id": "0f7d43eb",
   "metadata": {},
   "outputs": [],
   "source": [
    "# Instantiating a RandomForestClassifier model\n",
    "rfc_model = RandomForestClassifier(n_estimators = 50,\n",
    "                                   max_depth = 20,\n",
    "                                   min_samples_split = 5,\n",
    "                                   min_samples_leaf = 2)"
   ]
  },
  {
   "cell_type": "code",
   "execution_count": 4,
   "id": "0c1d0f39",
   "metadata": {},
   "outputs": [
    {
     "data": {
      "text/plain": [
       "RandomForestClassifier(max_depth=20, min_samples_leaf=2, min_samples_split=5,\n",
       "                       n_estimators=50)"
      ]
     },
     "execution_count": 4,
     "metadata": {},
     "output_type": "execute_result"
    }
   ],
   "source": [
    "# Fitting the X_train and y_train datasets to the RandomForestClassifier model\n",
    "rfc_model.fit(X_train, y_train)"
   ]
  },
  {
   "cell_type": "code",
   "execution_count": 5,
   "id": "4f8c5631",
   "metadata": {},
   "outputs": [
    {
     "name": "stdout",
     "output_type": "stream",
     "text": [
      "Accuracy Score: 0.9736842105263158\n",
      "Confusion Matrix: \n",
      "[[15  0  0]\n",
      " [ 0 10  1]\n",
      " [ 0  0 12]]\n"
     ]
    }
   ],
   "source": [
    "# Getting inferential predictions for the validation dataset\n",
    "val_preds = rfc_model.predict(X_val)\n",
    "\n",
    "# Generating validation metrics by comparing the inferential predictions (val_preds) to the actuals (y_val)\n",
    "val_accuracy = accuracy_score(y_val, val_preds)\n",
    "val_confusion_matrix = confusion_matrix(y_val, val_preds)\n",
    "\n",
    "# Printing out the validation metrics\n",
    "print(f'Accuracy Score: {val_accuracy}')\n",
    "print(f'Confusion Matrix: \\n{val_confusion_matrix}')"
   ]
  },
  {
   "cell_type": "code",
   "execution_count": 6,
   "id": "7d500df1",
   "metadata": {},
   "outputs": [],
   "source": [
    "# Instantiating another RandomForestClassifier object\n",
    "other_rfc_model = RandomForestClassifier()"
   ]
  },
  {
   "cell_type": "code",
   "execution_count": 7,
   "id": "2e8a4ded",
   "metadata": {},
   "outputs": [],
   "source": [
    "# Extracting attributes of the original trained model\n",
    "target_classes = rfc_model.classes_\n",
    "estimators = rfc_model.estimators_\n",
    "n_classes = rfc_model.n_classes_\n",
    "n_features = rfc_model.n_features_in_\n",
    "feat_names = rfc_model.feature_names_in_\n",
    "n_feats_out = rfc_model.n_outputs_\n",
    "feat_importances = rfc_model.feature_importances_\n",
    "params = rfc_model.get_params()"
   ]
  },
  {
   "cell_type": "code",
   "execution_count": 8,
   "id": "acf52e5f",
   "metadata": {},
   "outputs": [],
   "source": [
    "# Applying model attributes to new model object\n",
    "other_rfc_model.set_params(**params)\n",
    "other_rfc_model.classes_ = target_classes\n",
    "other_rfc_model.estimators_ = estimators\n",
    "other_rfc_model.n_classes_ = n_classes\n",
    "other_rfc_model.n_features_in_ = n_features\n",
    "other_rfc_model.feature_names_in_ = feat_names\n",
    "other_rfc_model.n_outputs_ = n_feats_out"
   ]
  },
  {
   "cell_type": "code",
   "execution_count": 9,
   "id": "3b7a593c",
   "metadata": {},
   "outputs": [
    {
     "name": "stdout",
     "output_type": "stream",
     "text": [
      "Accuracy Score: 0.9736842105263158\n",
      "Confusion Matrix: \n",
      "[[15  0  0]\n",
      " [ 0 10  1]\n",
      " [ 0  0 12]]\n"
     ]
    }
   ],
   "source": [
    "# Getting inferential predictions for the validation dataset\n",
    "val_preds = other_rfc_model.predict(X_val)\n",
    "\n",
    "# Generating validation metrics by comparing the inferential predictions (val_preds) to the actuals (y_val)\n",
    "val_accuracy = accuracy_score(y_val, val_preds)\n",
    "val_confusion_matrix = confusion_matrix(y_val, val_preds)\n",
    "\n",
    "# Printing out the validation metrics\n",
    "print(f'Accuracy Score: {val_accuracy}')\n",
    "print(f'Confusion Matrix: \\n{val_confusion_matrix}')"
   ]
  },
  {
   "cell_type": "code",
   "execution_count": null,
   "id": "c634dbad",
   "metadata": {},
   "outputs": [],
   "source": []
  }
 ],
 "metadata": {
  "kernelspec": {
   "display_name": "Python 3 (ipykernel)",
   "language": "python",
   "name": "python3"
  },
  "language_info": {
   "codemirror_mode": {
    "name": "ipython",
    "version": 3
   },
   "file_extension": ".py",
   "mimetype": "text/x-python",
   "name": "python",
   "nbconvert_exporter": "python",
   "pygments_lexer": "ipython3",
   "version": "3.10.1"
  }
 },
 "nbformat": 4,
 "nbformat_minor": 5
}

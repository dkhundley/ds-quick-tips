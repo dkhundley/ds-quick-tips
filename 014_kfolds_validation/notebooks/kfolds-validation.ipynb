{
 "cells": [
  {
   "cell_type": "markdown",
   "id": "5f86ded3",
   "metadata": {},
   "source": [
    "# K-Folds Validation\n",
    "As part of this notebook, we will be exploring how to make efficient use of small datasets by utilizing **k-folds validation**. K-folds validation splits a training dataset into multiple small batches. One of these datasets is reserved as the validation dataset "
   ]
  },
  {
   "cell_type": "markdown",
   "id": "863c0f2e",
   "metadata": {},
   "source": [
    "## Project Setup"
   ]
  },
  {
   "cell_type": "code",
   "execution_count": 1,
   "id": "834b1058",
   "metadata": {},
   "outputs": [],
   "source": [
    "# Importing the necessary Python libraries\n",
    "import numpy as np\n",
    "import pandas as pd\n",
    "from sklearn import datasets\n",
    "from sklearn.model_selection import train_test_split, KFold\n",
    "from sklearn.ensemble import RandomForestClassifier\n",
    "from sklearn.metrics import accuracy_score, confusion_matrix\n",
    "\n",
    "import warnings\n",
    "warnings.filterwarnings('ignore')"
   ]
  },
  {
   "cell_type": "code",
   "execution_count": 2,
   "id": "1aaca1cb",
   "metadata": {},
   "outputs": [],
   "source": [
    "# Getting the Iris dataset from Scikit-Learn\n",
    "iris = datasets.load_iris()"
   ]
  },
  {
   "cell_type": "code",
   "execution_count": 3,
   "id": "86e7124e",
   "metadata": {},
   "outputs": [],
   "source": [
    "# Loading the predictor value (y) and remainder of the training dataset (X) as Pandas DataFrames\n",
    "X = pd.DataFrame(data = iris['data'], columns = iris['feature_names'])\n",
    "y = pd.DataFrame(data = iris['target'], columns = ['target'])"
   ]
  },
  {
   "cell_type": "markdown",
   "id": "552f0963",
   "metadata": {},
   "source": [
    "## Performing a Typical Split\n",
    "Before we jump into how we perform k-folds validation, let's do a quick refresher on how we typically split our dataset using a traditional `train_test_split`. Then we'll later contrast this method with k-folds validation."
   ]
  },
  {
   "cell_type": "code",
   "execution_count": 4,
   "id": "22eb9945",
   "metadata": {},
   "outputs": [],
   "source": [
    "# Performing a train_test_split on the dataset\n",
    "X_train, X_val, y_train, y_val = train_test_split(X, y)"
   ]
  },
  {
   "cell_type": "code",
   "execution_count": 5,
   "id": "07fd229f",
   "metadata": {},
   "outputs": [],
   "source": [
    "# Instantiating a RandomForestClassifier model\n",
    "rfc_model = RandomForestClassifier()"
   ]
  },
  {
   "cell_type": "code",
   "execution_count": 6,
   "id": "09bffb52",
   "metadata": {},
   "outputs": [
    {
     "data": {
      "text/plain": [
       "RandomForestClassifier()"
      ]
     },
     "execution_count": 6,
     "metadata": {},
     "output_type": "execute_result"
    }
   ],
   "source": [
    "# Fitting the X_train and y_train datasets to the RandomForestClassifier model\n",
    "rfc_model.fit(X_train, y_train)"
   ]
  },
  {
   "cell_type": "code",
   "execution_count": 7,
   "id": "53fb4d46",
   "metadata": {},
   "outputs": [],
   "source": [
    "# Getting inferential predictions for the validation dataset\n",
    "val_preds = rfc_model.predict(X_val)"
   ]
  },
  {
   "cell_type": "code",
   "execution_count": 8,
   "id": "041535cf",
   "metadata": {},
   "outputs": [],
   "source": [
    "# Generating validation metrics by comparing the inferential predictions (val_preds) to the actuals (y_val)\n",
    "val_accuracy = accuracy_score(y_val, val_preds)\n",
    "val_confusion_matrix = confusion_matrix(y_val, val_preds)"
   ]
  },
  {
   "cell_type": "code",
   "execution_count": 9,
   "id": "343f7364",
   "metadata": {},
   "outputs": [
    {
     "name": "stdout",
     "output_type": "stream",
     "text": [
      "Accuracy Score: 0.9210526315789473\n",
      "Confusion Matrix: \n",
      "[[12  0  0]\n",
      " [ 0 11  0]\n",
      " [ 0  3 12]]\n"
     ]
    }
   ],
   "source": [
    "# Printing out the validation metrics\n",
    "print(f'Accuracy Score: {val_accuracy}')\n",
    "print(f'Confusion Matrix: \\n{val_confusion_matrix}')"
   ]
  },
  {
   "cell_type": "markdown",
   "id": "36bd650e",
   "metadata": {},
   "source": [
    "## Training with K-Folds Validation\n",
    "Now that we have performed a very basic model training using a traditional `train_test_split`, we are now ready to perform a training using k-folds validation."
   ]
  },
  {
   "cell_type": "code",
   "execution_count": 10,
   "id": "bdfc755e",
   "metadata": {},
   "outputs": [],
   "source": [
    "# Instantiating the K-Fold cross validation object with 5 folds\n",
    "k_folds = KFold(n_splits = 5, shuffle = True, random_state = 42)"
   ]
  },
  {
   "cell_type": "code",
   "execution_count": 11,
   "id": "96fbdbfe",
   "metadata": {},
   "outputs": [
    {
     "name": "stdout",
     "output_type": "stream",
     "text": [
      "Accuracy Score: 1.0\n",
      "Confusion Matrix: \n",
      "[[10  0  0]\n",
      " [ 0  9  0]\n",
      " [ 0  0 11]]\n",
      "Accuracy Score: 0.9666666666666667\n",
      "Confusion Matrix: \n",
      "[[13  0  0]\n",
      " [ 0 10  0]\n",
      " [ 0  1  6]]\n",
      "Accuracy Score: 0.9333333333333333\n",
      "Confusion Matrix: \n",
      "[[12  0  0]\n",
      " [ 0  8  2]\n",
      " [ 0  0  8]]\n",
      "Accuracy Score: 0.9333333333333333\n",
      "Confusion Matrix: \n",
      "[[ 8  0  0]\n",
      " [ 0  9  1]\n",
      " [ 0  1 11]]\n",
      "Accuracy Score: 0.9666666666666667\n",
      "Confusion Matrix: \n",
      "[[ 7  0  0]\n",
      " [ 0 11  0]\n",
      " [ 0  1 11]]\n"
     ]
    }
   ],
   "source": [
    "# Iterating through each of the folds in K-Folds\n",
    "for train_index, val_index in k_folds.split(X):\n",
    "    \n",
    "    # Splitting the training set from the validation set for this specific fold\n",
    "    X_train, X_val = X.iloc[train_index, :], X.iloc[val_index, :]\n",
    "    y_train, y_val = y.iloc[train_index], y.iloc[val_index]\n",
    "    \n",
    "    # Instantiating a RandomForestClassifier model\n",
    "    rfc_model = RandomForestClassifier()\n",
    "    \n",
    "    # Fitting the X_train and y_train datasets to the RandomForestClassifier model\n",
    "    rfc_model.fit(X_train, y_train)\n",
    "    \n",
    "    # Getting inferential predictions for the validation dataset\n",
    "    val_preds = rfc_model.predict(X_val)\n",
    "    \n",
    "    # Generating validation metrics by comparing the inferential predictions (val_preds) to the actuals (y_val)\n",
    "    val_accuracy = accuracy_score(y_val, val_preds)\n",
    "    val_confusion_matrix = confusion_matrix(y_val, val_preds)\n",
    "    \n",
    "    # Printing out the validation metrics\n",
    "    print(f'Accuracy Score: {val_accuracy}')\n",
    "    print(f'Confusion Matrix: \\n{val_confusion_matrix}')"
   ]
  },
  {
   "cell_type": "code",
   "execution_count": null,
   "id": "bc0b0060",
   "metadata": {},
   "outputs": [],
   "source": []
  }
 ],
 "metadata": {
  "kernelspec": {
   "display_name": "Python 3 (ipykernel)",
   "language": "python",
   "name": "python3"
  },
  "language_info": {
   "codemirror_mode": {
    "name": "ipython",
    "version": 3
   },
   "file_extension": ".py",
   "mimetype": "text/x-python",
   "name": "python",
   "nbconvert_exporter": "python",
   "pygments_lexer": "ipython3",
   "version": "3.10.1"
  }
 },
 "nbformat": 4,
 "nbformat_minor": 5
}

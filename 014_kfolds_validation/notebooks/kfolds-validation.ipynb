{
 "cells": [
  {
   "cell_type": "markdown",
   "id": "5f86ded3",
   "metadata": {},
   "source": [
    "# K-Folds Validation\n",
    "As part of this notebook, we will be exploring how to make efficient use of small datasets by utilizing **k-folds validation**. K-folds validation splits a training dataset into multiple small batches. One of these datasets is reserved as the validation dataset "
   ]
  },
  {
   "cell_type": "markdown",
   "id": "863c0f2e",
   "metadata": {},
   "source": [
    "## Project Setup"
   ]
  },
  {
   "cell_type": "code",
   "execution_count": 29,
   "id": "834b1058",
   "metadata": {},
   "outputs": [],
   "source": [
    "# Importing the necessary Python libraries\n",
    "import numpy as np\n",
    "import pandas as pd\n",
    "from sklearn import datasets\n",
    "from sklearn.model_selection import train_test_split\n",
    "from sklearn.ensemble import RandomForestClassifier\n",
    "from sklearn.metrics import accuracy_score, confusion_matrix"
   ]
  },
  {
   "cell_type": "code",
   "execution_count": 2,
   "id": "1aaca1cb",
   "metadata": {},
   "outputs": [],
   "source": [
    "# Getting the Iris dataset from Scikit-Learn\n",
    "iris = datasets.load_iris()"
   ]
  },
  {
   "cell_type": "code",
   "execution_count": 15,
   "id": "86e7124e",
   "metadata": {},
   "outputs": [],
   "source": [
    "# Loading the predictor value (y) and remainder of the training dataset (X) as Pandas DataFrames\n",
    "X = pd.DataFrame(data = iris['data'], columns = iris['feature_names'])\n",
    "y = pd.DataFrame(data = iris['target'], columns = ['target'])"
   ]
  },
  {
   "cell_type": "markdown",
   "id": "552f0963",
   "metadata": {},
   "source": [
    "## Performing a Typical Split\n",
    "Before we jump into how we perform k-folds validation, let's do a quick refresher on how we typically split our dataset using a traditional `train_test_split`. Then we'll later contrast this method with k-folds validation."
   ]
  },
  {
   "cell_type": "code",
   "execution_count": 18,
   "id": "22eb9945",
   "metadata": {},
   "outputs": [],
   "source": [
    "# Performing a train_test_split on the dataset\n",
    "X_train, X_val, y_train, y_val = train_test_split(X, y)"
   ]
  },
  {
   "cell_type": "code",
   "execution_count": 21,
   "id": "07fd229f",
   "metadata": {},
   "outputs": [],
   "source": [
    "# Instantiating a RandomForestClassifier model\n",
    "rfc_model = RandomForestClassifier()"
   ]
  },
  {
   "cell_type": "code",
   "execution_count": 22,
   "id": "09bffb52",
   "metadata": {},
   "outputs": [
    {
     "name": "stderr",
     "output_type": "stream",
     "text": [
      "<ipython-input-22-925ce835a99d>:2: DataConversionWarning: A column-vector y was passed when a 1d array was expected. Please change the shape of y to (n_samples,), for example using ravel().\n",
      "  rfc_model.fit(X_train, y_train)\n"
     ]
    },
    {
     "data": {
      "text/plain": [
       "RandomForestClassifier()"
      ]
     },
     "execution_count": 22,
     "metadata": {},
     "output_type": "execute_result"
    }
   ],
   "source": [
    "# Fitting the X_train and y_train datasets to the RandomForestClassifier model\n",
    "rfc_model.fit(X_train, y_train)"
   ]
  },
  {
   "cell_type": "code",
   "execution_count": 23,
   "id": "53fb4d46",
   "metadata": {},
   "outputs": [],
   "source": [
    "# Getting inferential predictions for the validation dataset\n",
    "val_preds = rfc_model.predict(X_val)"
   ]
  },
  {
   "cell_type": "code",
   "execution_count": 28,
   "id": "041535cf",
   "metadata": {},
   "outputs": [],
   "source": [
    "# Generating validation metrics by comparing the inferential predictions (val_preds) to the actuals (y_val)\n",
    "val_accuracy = accuracy_score(y_val, val_preds)\n",
    "val_confusion_matrix = confusion_matrix(y_val, val_preds)"
   ]
  },
  {
   "cell_type": "code",
   "execution_count": 30,
   "id": "343f7364",
   "metadata": {},
   "outputs": [
    {
     "name": "stdout",
     "output_type": "stream",
     "text": [
      "Accuracy Score: 0.9210526315789473\n",
      "Confusion Matrix: \n",
      "[[14  0  0]\n",
      " [ 0  7  0]\n",
      " [ 0  3 14]]\n"
     ]
    }
   ],
   "source": [
    "# Printing out the validation metrics\n",
    "print(f'Accuracy Score: {val_accuracy}')\n",
    "print(f'Confusion Matrix: \\n{val_confusion_matrix}')"
   ]
  },
  {
   "cell_type": "markdown",
   "id": "36bd650e",
   "metadata": {},
   "source": [
    "## Training with K-Folds Validation\n",
    "Now that we have performed a very basic model training using a traditional `train_test_split`, we are now ready to perform a training using k-folds validation."
   ]
  },
  {
   "cell_type": "code",
   "execution_count": null,
   "id": "bdfc755e",
   "metadata": {},
   "outputs": [],
   "source": []
  }
 ],
 "metadata": {
  "kernelspec": {
   "display_name": "Python 3",
   "language": "python",
   "name": "python3"
  },
  "language_info": {
   "codemirror_mode": {
    "name": "ipython",
    "version": 3
   },
   "file_extension": ".py",
   "mimetype": "text/x-python",
   "name": "python",
   "nbconvert_exporter": "python",
   "pygments_lexer": "ipython3",
   "version": "3.8.8"
  }
 },
 "nbformat": 4,
 "nbformat_minor": 5
}

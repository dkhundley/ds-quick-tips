{
 "cells": [
  {
   "cell_type": "markdown",
   "id": "7a80ce31",
   "metadata": {},
   "source": [
    "# An Introduction to Polars for Pandas Users\n",
    "In this notebook, we'll be covering the new tabular dataframe library known as **Polars**. Polars is starting to gain traction for its speedy capabilities, and this is enabled as Polars is built on top of Rust. Polars is an alternative to the industry favorite **Pandas**, and several data scientists are now switching to Polars as their \"go to\" dataframe library. Throughout this notebook, we'll be doing a direct compare / contrast between Pandas and Polars using the [Titanic dataset](https://www.kaggle.com/c/titanic).\n",
    "\n",
    "To demonstrate the speediness of Polars versus Pandas, we will be outputting the execution speed of each cell down below. While we could use the Jupyter magic command `%%time`, this would be very tedious to write for every cell. Instead, we'll make use of a special Jupyter extension that does this very cleanly. In order make use of the extension, you will need to run the following commands:\n",
    "\n",
    "```\n",
    "pip install jupyter_contrib_nbextensions\n",
    "jupyter contrib nbextension install --user\n",
    "jupyter nbextension enable execute_time/ExecuteTime\n",
    "```\n",
    "\n",
    "After doing the proper installation, you can toggle on the execution times in the Jupyter interface by going to \"Cell > Execution Timings > Toggle visibility (all)\". For context, I am running this notebook on a standard 2021 MacBook Pro with an M1 Pro chip."
   ]
  },
  {
   "cell_type": "markdown",
   "id": "4d3a9ad3",
   "metadata": {},
   "source": [
    "## Installation\n",
    "\n",
    "Installing Polars is as simple as installing any other Python library. Despite being built on top of Rust, it is not imperative to pre-install Rust before installing Polars. To use `pip` to install Polars, simply run the following command:\n",
    "\n",
    "```\n",
    "pip install polars\n",
    "```\n",
    "\n",
    "Additionally, if you do not have it already installed, you will need to separately need to install Pyarrow, which Polars requires to execute some specific functions. For example, in order to convert a Pandas dataframe into a Polars dataframe using Polars' `from_pandas()` function, Pyarrow is required. To install Pyarrow, simply run the following command\n",
    "\n",
    "```\n",
    "pip install pyarrow\n",
    "```"
   ]
  },
  {
   "cell_type": "markdown",
   "id": "cbbf4861",
   "metadata": {},
   "source": [
    "## Getting Started\n",
    "Now that we've installed Polars, let's go ahead and get started running some basic functions that I like to run every time I work with a new dataset. To keep things straightforward, we're going to name our Titanic dataframe loaded with Pandas as `df_pandas` and our Titanic dataframe loaded with Polars as `df_polars`."
   ]
  },
  {
   "cell_type": "code",
   "execution_count": 1,
   "id": "d3ccef7b",
   "metadata": {
    "ExecuteTime": {
     "end_time": "2023-03-05T03:48:26.451805Z",
     "start_time": "2023-03-05T03:48:26.445481Z"
    }
   },
   "outputs": [
    {
     "ename": "SyntaxError",
     "evalue": "invalid character '😃' (U+1F603) (2556418927.py, line 5)",
     "output_type": "error",
     "traceback": [
      "\u001b[0;36m  Cell \u001b[0;32mIn [1], line 5\u001b[0;36m\u001b[0m\n\u001b[0;31m    😃\u001b[0m\n\u001b[0m    ^\u001b[0m\n\u001b[0;31mSyntaxError\u001b[0m\u001b[0;31m:\u001b[0m invalid character '😃' (U+1F603)\n"
     ]
    }
   ],
   "source": [
    "# Importing the Python libraries we'll be using throughout this notebook\n",
    "import pandas as pd\n",
    "import polars as pl\n",
    "from category_encoders.one_hot import OneHotEncoder\n",
    "😃\n",
    "from sklearn.ensemble import RandomForestClassifier\n",
    "from sklearn.metrics import roc_auc_score, accuracy_score, confusion_matrix"
   ]
  },
  {
   "cell_type": "markdown",
   "id": "031f1872",
   "metadata": {},
   "source": [
    "### Loading Data from a CSV File"
   ]
  },
  {
   "cell_type": "code",
   "execution_count": null,
   "id": "ae7c8041",
   "metadata": {
    "ExecuteTime": {
     "end_time": "2023-03-05T03:48:26.453591Z",
     "start_time": "2023-03-05T03:48:26.453585Z"
    }
   },
   "outputs": [],
   "source": [
    "# Setting the filepath for the Titanic dataset\n",
    "TITANIC_FILEPATH = '../data/titanic/train.csv'"
   ]
  },
  {
   "cell_type": "code",
   "execution_count": null,
   "id": "c2d87130",
   "metadata": {
    "ExecuteTime": {
     "end_time": "2023-03-05T03:48:26.454245Z",
     "start_time": "2023-03-05T03:48:26.454239Z"
    }
   },
   "outputs": [],
   "source": [
    "# Importing the Titanic training dataset with Pandas\n",
    "df_pandas = pd.read_csv(TITANIC_FILEPATH)"
   ]
  },
  {
   "cell_type": "code",
   "execution_count": null,
   "id": "bc5b73aa",
   "metadata": {
    "ExecuteTime": {
     "end_time": "2023-03-05T03:48:26.455022Z",
     "start_time": "2023-03-05T03:48:26.455016Z"
    }
   },
   "outputs": [],
   "source": [
    "# Importing the Titanic training dataset with Polars\n",
    "df_polars = pl.read_csv(TITANIC_FILEPATH)"
   ]
  },
  {
   "cell_type": "markdown",
   "id": "fc7f86b1",
   "metadata": {},
   "source": [
    "### Viewing the First Rows of Each DataFrame"
   ]
  },
  {
   "cell_type": "code",
   "execution_count": null,
   "id": "a72b516f",
   "metadata": {
    "ExecuteTime": {
     "end_time": "2023-03-05T03:48:26.455753Z",
     "start_time": "2023-03-05T03:48:26.455748Z"
    }
   },
   "outputs": [],
   "source": [
    "# Viewing the first few rows of the Pandas DataFrame\n",
    "df_pandas.head()"
   ]
  },
  {
   "cell_type": "code",
   "execution_count": null,
   "id": "e1dea850",
   "metadata": {
    "ExecuteTime": {
     "end_time": "2023-03-05T03:48:26.456733Z",
     "start_time": "2023-03-05T03:48:26.456720Z"
    },
    "scrolled": true
   },
   "outputs": [],
   "source": [
    "# Viewing the first few rows of the Polars dataframe\n",
    "df_polars.head()"
   ]
  },
  {
   "cell_type": "markdown",
   "id": "fcf38b7e",
   "metadata": {},
   "source": [
    "### Viewing Information about the DataFrame"
   ]
  },
  {
   "cell_type": "code",
   "execution_count": null,
   "id": "ce4743b7",
   "metadata": {
    "ExecuteTime": {
     "end_time": "2023-03-05T03:48:26.457541Z",
     "start_time": "2023-03-05T03:48:26.457535Z"
    }
   },
   "outputs": [],
   "source": [
    "# Viewing the general contents of the Pandas DataFrame\n",
    "df_pandas.info()"
   ]
  },
  {
   "cell_type": "code",
   "execution_count": null,
   "id": "168d4c7f",
   "metadata": {
    "ExecuteTime": {
     "end_time": "2023-03-05T03:48:26.458075Z",
     "start_time": "2023-03-05T03:48:26.458070Z"
    }
   },
   "outputs": [],
   "source": [
    "# Viewing stats about the Pandas DataFrame\n",
    "df_pandas.describe()"
   ]
  },
  {
   "cell_type": "code",
   "execution_count": null,
   "id": "82443964",
   "metadata": {
    "ExecuteTime": {
     "end_time": "2023-03-05T03:48:26.458673Z",
     "start_time": "2023-03-05T03:48:26.458668Z"
    }
   },
   "outputs": [],
   "source": [
    "# Viewing information about the Polars dataframe\n",
    "df_polars.describe()"
   ]
  },
  {
   "cell_type": "markdown",
   "id": "07eade42",
   "metadata": {},
   "source": [
    "### Displaying Value Counts of a Specific Feature"
   ]
  },
  {
   "cell_type": "code",
   "execution_count": null,
   "id": "64e9c9c6",
   "metadata": {
    "ExecuteTime": {
     "end_time": "2023-03-05T03:48:26.459557Z",
     "start_time": "2023-03-05T03:48:26.459552Z"
    }
   },
   "outputs": [],
   "source": [
    "# Viewing the values associated to the \"Embarked\" column in the Pandas DataFrame\n",
    "df_pandas['Embarked'].value_counts()"
   ]
  },
  {
   "cell_type": "code",
   "execution_count": null,
   "id": "c5269736",
   "metadata": {
    "ExecuteTime": {
     "end_time": "2023-03-05T03:48:26.460310Z",
     "start_time": "2023-03-05T03:48:26.460305Z"
    }
   },
   "outputs": [],
   "source": [
    "# Viewing the values associated to the \"Embarked\" column in the Polars DataFrame\n",
    "df_polars['Embarked'].value_counts()"
   ]
  },
  {
   "cell_type": "markdown",
   "id": "5ea42981",
   "metadata": {},
   "source": [
    "## Data Wrangling\n",
    "Now that we've loaded our data and performed some quickstart functions, let's go ahead and execute some basic data wrangling techniques to see how the syntax and performance fares between Polars and Pandas."
   ]
  },
  {
   "cell_type": "markdown",
   "id": "be3c4767",
   "metadata": {},
   "source": [
    "### Getting a Slice of the DataFrame"
   ]
  },
  {
   "cell_type": "code",
   "execution_count": null,
   "id": "69a5becb",
   "metadata": {
    "ExecuteTime": {
     "end_time": "2023-03-05T03:48:26.462442Z",
     "start_time": "2023-03-05T03:48:26.462437Z"
    }
   },
   "outputs": [],
   "source": [
    "# Getting a slice of the Pandas DataFrame using index values\n",
    "df_pandas[15:30]"
   ]
  },
  {
   "cell_type": "code",
   "execution_count": null,
   "id": "8d097af9",
   "metadata": {
    "ExecuteTime": {
     "end_time": "2023-03-05T03:48:26.463285Z",
     "start_time": "2023-03-05T03:48:26.463280Z"
    }
   },
   "outputs": [],
   "source": [
    "# Getting a slice of the Polars DataFrame using index values\n",
    "df_polars[15:30]"
   ]
  },
  {
   "cell_type": "markdown",
   "id": "9f70580a",
   "metadata": {},
   "source": [
    "### Filtering the DataFrame by Feature Values"
   ]
  },
  {
   "cell_type": "code",
   "execution_count": null,
   "id": "b85617ab",
   "metadata": {
    "ExecuteTime": {
     "end_time": "2023-03-05T03:48:26.463882Z",
     "start_time": "2023-03-05T03:48:26.463877Z"
    }
   },
   "outputs": [],
   "source": [
    "# Extracting teenagers from the Pandas DataFrame\n",
    "df_pandas[df_pandas['Age'].between(13, 19)]"
   ]
  },
  {
   "cell_type": "code",
   "execution_count": null,
   "id": "d0bc431a",
   "metadata": {
    "ExecuteTime": {
     "end_time": "2023-03-05T03:48:26.464564Z",
     "start_time": "2023-03-05T03:48:26.464558Z"
    }
   },
   "outputs": [],
   "source": [
    "# Extracting teenagers from the Polars DataFrame\n",
    "df_polars.filter(df_polars['Age'].is_between(13, 19))"
   ]
  },
  {
   "cell_type": "markdown",
   "id": "bfc11d5d",
   "metadata": {},
   "source": [
    "### Filling Null Values"
   ]
  },
  {
   "cell_type": "code",
   "execution_count": null,
   "id": "c2ffcc09",
   "metadata": {
    "ExecuteTime": {
     "end_time": "2023-03-05T03:48:26.465182Z",
     "start_time": "2023-03-05T03:48:26.465178Z"
    }
   },
   "outputs": [],
   "source": [
    "# Filling \"Embarked\" nulls in the Pandas DataFrame\n",
    "df_pandas['Embarked'].fillna('S', inplace = True)"
   ]
  },
  {
   "cell_type": "code",
   "execution_count": null,
   "id": "96e277ed",
   "metadata": {
    "ExecuteTime": {
     "end_time": "2023-03-05T03:48:26.465877Z",
     "start_time": "2023-03-05T03:48:26.465873Z"
    }
   },
   "outputs": [],
   "source": [
    "# Filling \"Embarked\" nulls in the Polars DataFrame\n",
    "df_polars = df_polars.with_columns(df_polars['Embarked'].fill_null('S'))"
   ]
  },
  {
   "cell_type": "markdown",
   "id": "c222600f",
   "metadata": {},
   "source": [
    "### Grouping Data by Feature Names"
   ]
  },
  {
   "cell_type": "code",
   "execution_count": null,
   "id": "25e68509",
   "metadata": {
    "ExecuteTime": {
     "end_time": "2023-03-05T03:48:26.466838Z",
     "start_time": "2023-03-05T03:48:26.466831Z"
    }
   },
   "outputs": [],
   "source": [
    "# Grouping data by ticket class and gender to view counts in the Pandas DataFrame\n",
    "df_pandas.groupby(by = ['Pclass', 'Sex']).count()"
   ]
  },
  {
   "cell_type": "code",
   "execution_count": null,
   "id": "f83eae4a",
   "metadata": {
    "ExecuteTime": {
     "end_time": "2023-03-05T03:48:26.467548Z",
     "start_time": "2023-03-05T03:48:26.467543Z"
    }
   },
   "outputs": [],
   "source": [
    "# Grouping data by ticket class and gender to view counts in the Polars DataFrame\n",
    "df_polars.groupby(by = ['Pclass', 'Sex']).count()"
   ]
  },
  {
   "cell_type": "markdown",
   "id": "bacb70f9",
   "metadata": {},
   "source": [
    "## Feature Engineering\n",
    "Now that we have performed some basic data wrangling functions, I want to perform some simple feature engineering so that we can feed this dataset into a machine learning algorithm. I did this same thing with the Titanic dataset a while back [as part of this notebook](https://github.com/dkhundley/titanic-byoc/blob/main/notebooks/feature-engineering.ipynb), so we're going to see if we can basically emulate the same things with Polars."
   ]
  },
  {
   "cell_type": "code",
   "execution_count": null,
   "id": "6c5cef6a",
   "metadata": {
    "ExecuteTime": {
     "end_time": "2023-03-05T03:48:26.468100Z",
     "start_time": "2023-03-05T03:48:26.468095Z"
    }
   },
   "outputs": [],
   "source": [
    "# Reloading each DataFrame from scratch\n",
    "df_pandas = pd.read_csv(TITANIC_FILEPATH)\n",
    "df_polars = pl.read_csv(TITANIC_FILEPATH)"
   ]
  },
  {
   "cell_type": "markdown",
   "id": "db511712",
   "metadata": {},
   "source": [
    "### Dropping Unnecessary Features"
   ]
  },
  {
   "cell_type": "code",
   "execution_count": 2,
   "id": "4a4cfc61",
   "metadata": {
    "ExecuteTime": {
     "end_time": "2023-03-05T03:48:26.682849Z",
     "start_time": "2023-03-05T03:48:26.471834Z"
    }
   },
   "outputs": [
    {
     "ename": "NameError",
     "evalue": "name 'df_pandas' is not defined",
     "output_type": "error",
     "traceback": [
      "\u001b[0;31m---------------------------------------------------------------------------\u001b[0m",
      "\u001b[0;31mNameError\u001b[0m                                 Traceback (most recent call last)",
      "Cell \u001b[0;32mIn [2], line 2\u001b[0m\n\u001b[1;32m      1\u001b[0m \u001b[38;5;66;03m# Dropping unnecessary features from the Pandas DataFrame\u001b[39;00m\n\u001b[0;32m----> 2\u001b[0m df_pandas\u001b[38;5;241m.\u001b[39mdrop(columns \u001b[38;5;241m=\u001b[39m [\u001b[38;5;124m'\u001b[39m\u001b[38;5;124mPassengerId\u001b[39m\u001b[38;5;124m'\u001b[39m, \u001b[38;5;124m'\u001b[39m\u001b[38;5;124mName\u001b[39m\u001b[38;5;124m'\u001b[39m, \u001b[38;5;124m'\u001b[39m\u001b[38;5;124mTicket\u001b[39m\u001b[38;5;124m'\u001b[39m, \u001b[38;5;124m'\u001b[39m\u001b[38;5;124mCabin\u001b[39m\u001b[38;5;124m'\u001b[39m], inplace \u001b[38;5;241m=\u001b[39m \u001b[38;5;28;01mTrue\u001b[39;00m)\n",
      "\u001b[0;31mNameError\u001b[0m: name 'df_pandas' is not defined"
     ]
    }
   ],
   "source": [
    "# Dropping unnecessary features from the Pandas DataFrame\n",
    "df_pandas.drop(columns = ['PassengerId', 'Name', 'Ticket', 'Cabin'], inplace = True)"
   ]
  },
  {
   "cell_type": "code",
   "execution_count": null,
   "id": "84c570e1",
   "metadata": {
    "ExecuteTime": {
     "end_time": "2023-03-05T03:48:26.684196Z",
     "start_time": "2023-03-05T03:48:26.684191Z"
    }
   },
   "outputs": [],
   "source": [
    "# Dropping unnecessary features from the Polars DataFrame\n",
    "df_polars = df_polars.drop(columns = ['PassengerId', 'Name', 'Ticket', 'Cabin'])"
   ]
  },
  {
   "cell_type": "code",
   "execution_count": null,
   "id": "5650c904",
   "metadata": {
    "ExecuteTime": {
     "end_time": "2023-03-05T03:48:26.684971Z",
     "start_time": "2023-03-05T03:48:26.684959Z"
    }
   },
   "outputs": [],
   "source": [
    "# Separating the supporting features (X) from the predictor feature (y) for Pandas\n",
    "X_pandas = df_pandas.drop(columns = ['Survived'])\n",
    "y_pandas = df_pandas[['Survived']]"
   ]
  },
  {
   "cell_type": "code",
   "execution_count": null,
   "id": "d52dc1cd",
   "metadata": {
    "ExecuteTime": {
     "end_time": "2023-03-05T03:48:26.685552Z",
     "start_time": "2023-03-05T03:48:26.685547Z"
    }
   },
   "outputs": [],
   "source": [
    "# Separating the supporting features (X) from the predictor feature (y) for Polars\n",
    "X_polars = df_polars.drop(columns = ['Survived'])\n",
    "y_polars = df_polars[['Survived']]"
   ]
  },
  {
   "cell_type": "markdown",
   "id": "452d750f",
   "metadata": {},
   "source": [
    "### Engineering the \"Sex\" (Gender) Column"
   ]
  },
  {
   "cell_type": "code",
   "execution_count": null,
   "id": "edffadbe",
   "metadata": {
    "ExecuteTime": {
     "end_time": "2023-03-05T03:48:26.686084Z",
     "start_time": "2023-03-05T03:48:26.686079Z"
    }
   },
   "outputs": [],
   "source": [
    "# Instantiating One Hot Encoder objects for each respective DataFrame\n",
    "sex_ohe_encoder_pandas = OneHotEncoder(use_cat_names = True, handle_unknown = 'ignore')\n",
    "sex_ohe_encoder_polars = OneHotEncoder(use_cat_names = True, handle_unknown = 'ignore')"
   ]
  },
  {
   "cell_type": "code",
   "execution_count": null,
   "id": "b9bd512f",
   "metadata": {
    "ExecuteTime": {
     "end_time": "2023-03-05T03:48:26.686912Z",
     "start_time": "2023-03-05T03:48:26.686908Z"
    }
   },
   "outputs": [],
   "source": [
    "# Performing a one hot encoding on the \"Sex\" column for the Pandas DataFrame\n",
    "sex_dummies_pandas = sex_ohe_encoder_pandas.fit_transform(X_pandas['Sex'])"
   ]
  },
  {
   "cell_type": "code",
   "execution_count": null,
   "id": "38055641",
   "metadata": {
    "ExecuteTime": {
     "end_time": "2023-03-05T03:48:26.687627Z",
     "start_time": "2023-03-05T03:48:26.687623Z"
    }
   },
   "outputs": [],
   "source": [
    "# Performing a one hot encoding on the \"Sex\" column for the Polars DataFrame\n",
    "sex_dummies_polars = sex_ohe_encoder_polars.fit_transform(X_polars['Sex'].to_pandas())"
   ]
  },
  {
   "cell_type": "code",
   "execution_count": null,
   "id": "f4bbe9fc",
   "metadata": {
    "ExecuteTime": {
     "end_time": "2023-03-05T03:48:26.688548Z",
     "start_time": "2023-03-05T03:48:26.688542Z"
    }
   },
   "outputs": [],
   "source": [
    "# Concatenating the gender dummies back to the original Pandas DataFrame\n",
    "X_pandas = pd.concat([X_pandas, sex_dummies_pandas], axis = 1)"
   ]
  },
  {
   "cell_type": "code",
   "execution_count": null,
   "id": "818f1c74",
   "metadata": {
    "ExecuteTime": {
     "end_time": "2023-03-05T03:48:26.689203Z",
     "start_time": "2023-03-05T03:48:26.689198Z"
    }
   },
   "outputs": [],
   "source": [
    "# Converting the Polars dummies from a Pandas DataFrame to a Polars DataFrame\n",
    "sex_dummies_polars = pl.from_pandas(sex_dummies_polars)\n",
    "\n",
    "# Concatenating the gender dummies back to the original Polars DataFrame\n",
    "X_polars = pl.concat([X_polars, sex_dummies_polars], how = 'horizontal')"
   ]
  },
  {
   "cell_type": "code",
   "execution_count": null,
   "id": "e163fa65",
   "metadata": {
    "ExecuteTime": {
     "end_time": "2023-03-05T03:48:26.689774Z",
     "start_time": "2023-03-05T03:48:26.689769Z"
    }
   },
   "outputs": [],
   "source": [
    "# Dropping the original \"Sex\" column for each DataFrame\n",
    "X_pandas.drop(columns = ['Sex'], inplace = True)\n",
    "X_polars = X_polars.drop(columns = ['Sex'])"
   ]
  },
  {
   "cell_type": "markdown",
   "id": "08244063",
   "metadata": {
    "ExecuteTime": {
     "end_time": "2023-02-24T14:11:06.060306Z",
     "start_time": "2023-02-24T14:11:06.050502Z"
    }
   },
   "source": [
    "### Engineering the \"Embarked\" Column"
   ]
  },
  {
   "cell_type": "code",
   "execution_count": null,
   "id": "db253c91",
   "metadata": {
    "ExecuteTime": {
     "end_time": "2023-03-05T03:48:26.690671Z",
     "start_time": "2023-03-05T03:48:26.690666Z"
    }
   },
   "outputs": [],
   "source": [
    "# Instantiating One Hot Encoder objects for each respective dataframe\n",
    "embarked_ohe_encoder_pandas = OneHotEncoder(use_cat_names = True, handle_unknown = 'ignore')\n",
    "embarked_ohe_encoder_polars = OneHotEncoder(use_cat_names = True, handle_unknown = 'ignore')"
   ]
  },
  {
   "cell_type": "code",
   "execution_count": null,
   "id": "d8dd3e79",
   "metadata": {
    "ExecuteTime": {
     "end_time": "2023-03-05T03:48:26.691362Z",
     "start_time": "2023-03-05T03:48:26.691356Z"
    }
   },
   "outputs": [],
   "source": [
    "# Performing a one hot encoding on the \"Embarked\" column for the Pandas dataframe\n",
    "embarked_dummies_pandas = embarked_ohe_encoder_pandas.fit_transform(X_pandas['Embarked'])"
   ]
  },
  {
   "cell_type": "code",
   "execution_count": null,
   "id": "f4818035",
   "metadata": {
    "ExecuteTime": {
     "end_time": "2023-03-05T03:48:26.691936Z",
     "start_time": "2023-03-05T03:48:26.691930Z"
    }
   },
   "outputs": [],
   "source": [
    "# Performing a one hot encoding on the \"Embarked\" column for the Polars dataframe\n",
    "embarked_dummies_polars = embarked_ohe_encoder_polars.fit_transform(X_polars['Embarked'].to_pandas())"
   ]
  },
  {
   "cell_type": "code",
   "execution_count": null,
   "id": "24b6ed2d",
   "metadata": {
    "ExecuteTime": {
     "end_time": "2023-03-05T03:48:26.692482Z",
     "start_time": "2023-03-05T03:48:26.692477Z"
    }
   },
   "outputs": [],
   "source": [
    "# Concatenating the \"embarked\" dummies back to the original Pandas dataframe\n",
    "X_pandas = pd.concat([X_pandas, embarked_dummies_pandas], axis = 1)"
   ]
  },
  {
   "cell_type": "code",
   "execution_count": null,
   "id": "bcb6442d",
   "metadata": {
    "ExecuteTime": {
     "end_time": "2023-03-05T03:48:26.693332Z",
     "start_time": "2023-03-05T03:48:26.693327Z"
    }
   },
   "outputs": [],
   "source": [
    "# Converting the Polars dummies from a Pandas dataframe to a Polars dataframe\n",
    "embarked_dummies_polars = pl.from_pandas(embarked_dummies_polars)\n",
    "\n",
    "# Concatenating the gender dummies back to the original Polars dataframe\n",
    "X_polars = pl.concat([X_polars, embarked_dummies_polars], how = 'horizontal')"
   ]
  },
  {
   "cell_type": "code",
   "execution_count": null,
   "id": "fe803c51",
   "metadata": {
    "ExecuteTime": {
     "end_time": "2023-03-05T03:48:26.693782Z",
     "start_time": "2023-03-05T03:48:26.693778Z"
    }
   },
   "outputs": [],
   "source": [
    "# Dropping the original \"Embarked\" column for each dataframe\n",
    "X_pandas.drop(columns = ['Embarked'], inplace = True)\n",
    "X_polars = X_polars.drop(columns = ['Embarked'])"
   ]
  },
  {
   "cell_type": "markdown",
   "id": "da4b1200",
   "metadata": {
    "ExecuteTime": {
     "end_time": "2023-02-24T16:10:02.433344Z",
     "start_time": "2023-02-24T16:10:02.416369Z"
    }
   },
   "source": [
    "### Engineering the \"Age\" Column"
   ]
  },
  {
   "cell_type": "code",
   "execution_count": null,
   "id": "ae56e052",
   "metadata": {
    "ExecuteTime": {
     "end_time": "2023-03-05T03:48:26.694590Z",
     "start_time": "2023-03-05T03:48:26.694581Z"
    }
   },
   "outputs": [],
   "source": [
    "# Extracting the median age of the \"Age\" column using each respective DataFrame\n",
    "median_age_pandas = X_pandas['Age'].median()\n",
    "median_age_polars = X_pandas['Age'].median()"
   ]
  },
  {
   "cell_type": "code",
   "execution_count": null,
   "id": "8db0101c",
   "metadata": {
    "ExecuteTime": {
     "end_time": "2023-03-05T03:48:26.695078Z",
     "start_time": "2023-03-05T03:48:26.695073Z"
    }
   },
   "outputs": [],
   "source": [
    "# Filling null values with the median age for each respective DataFrame\n",
    "X_pandas.fillna(median_age_pandas, inplace = True)\n",
    "X_polars = X_polars.with_columns(X_polars['Age'].fill_null(median_age_polars))"
   ]
  },
  {
   "cell_type": "code",
   "execution_count": null,
   "id": "046a6156",
   "metadata": {
    "ExecuteTime": {
     "end_time": "2023-03-05T03:48:26.695729Z",
     "start_time": "2023-03-05T03:48:26.695725Z"
    }
   },
   "outputs": [],
   "source": [
    "# Establishing our bins values and names\n",
    "bin_labels = ['child', 'teen', 'young_adult', 'adult', 'elder']\n",
    "bin_values = [-1, 12, 19, 30, 60, 100]"
   ]
  },
  {
   "cell_type": "code",
   "execution_count": null,
   "id": "bb7d8694",
   "metadata": {
    "ExecuteTime": {
     "end_time": "2023-03-05T03:48:26.696278Z",
     "start_time": "2023-03-05T03:48:26.696272Z"
    }
   },
   "outputs": [],
   "source": [
    "# Applying \"Age\" binning for the Pandas DataFrame\n",
    "age_bins_pandas = pd.DataFrame(pd.cut(X_pandas['Age'], bins = bin_values, labels = bin_labels))"
   ]
  },
  {
   "cell_type": "markdown",
   "id": "96d43a92",
   "metadata": {},
   "source": [
    "Note: I really tried to get Polars' implementation of the `cut()` function to behave like the Pandas implementation, but... it was confusing. It does appear to work somewhat, but it re-ordered the whole set of data from least to greatest, meaning that I can't simply concatenate it back to the original Polars dataframe. According to [Polars' documentation about the `cut()` function](https://pola-rs.github.io/polars/py-polars/html/reference/api/polars.cut.html), this function is still in an \"experimental state\" as of February 24, 2023. I demonstrated what I'm talking about in the cell below, but I can't proceed forward like this. I'm going to have to use the Pandas values here for my Polars dataframe."
   ]
  },
  {
   "cell_type": "code",
   "execution_count": null,
   "id": "0ee539b5",
   "metadata": {
    "ExecuteTime": {
     "end_time": "2023-03-05T03:48:26.697226Z",
     "start_time": "2023-03-05T03:48:26.697221Z"
    }
   },
   "outputs": [],
   "source": [
    "# Applying \"Age\" binning for the Polars DataFrame\n",
    "age_bins_polars = pl.cut(X_polars['Age'], bins = bin_values)\n",
    "age_bins_polars.head()"
   ]
  },
  {
   "cell_type": "code",
   "execution_count": null,
   "id": "a069e741",
   "metadata": {
    "ExecuteTime": {
     "end_time": "2023-03-05T03:48:26.698494Z",
     "start_time": "2023-03-05T03:48:26.698488Z"
    }
   },
   "outputs": [],
   "source": [
    "# Converting the Pandas age bins to Polars for use in the Polars DataFrame\n",
    "age_bins_polars = pl.from_pandas(age_bins_pandas)"
   ]
  },
  {
   "cell_type": "code",
   "execution_count": null,
   "id": "b24cd45f",
   "metadata": {
    "ExecuteTime": {
     "end_time": "2023-03-05T03:48:26.699005Z",
     "start_time": "2023-03-05T03:48:26.699000Z"
    }
   },
   "outputs": [],
   "source": [
    "# Instantiating One Hot Encoder objects for each respective DataFrame\n",
    "age_ohe_encoder_pandas = OneHotEncoder(use_cat_names = True, handle_unknown = 'ignore')\n",
    "age_ohe_encoder_polars = OneHotEncoder(use_cat_names = True, handle_unknown = 'ignore')"
   ]
  },
  {
   "cell_type": "code",
   "execution_count": null,
   "id": "4b8d4b8c",
   "metadata": {
    "ExecuteTime": {
     "end_time": "2023-03-05T03:48:26.699819Z",
     "start_time": "2023-03-05T03:48:26.699814Z"
    }
   },
   "outputs": [],
   "source": [
    "# Performing a one hot encoding on the age bins for the Pandas DataFrame\n",
    "age_dummies_pandas = age_ohe_encoder_pandas.fit_transform(age_bins_pandas)"
   ]
  },
  {
   "cell_type": "code",
   "execution_count": null,
   "id": "4ff3a1cd",
   "metadata": {
    "ExecuteTime": {
     "end_time": "2023-03-05T03:48:26.700645Z",
     "start_time": "2023-03-05T03:48:26.700640Z"
    }
   },
   "outputs": [],
   "source": [
    "# Performing a one hot encoding on the age bins for the Pandas dataframe\n",
    "age_dummies_polars = age_ohe_encoder_pandas.fit_transform(age_bins_polars.to_pandas())"
   ]
  },
  {
   "cell_type": "code",
   "execution_count": null,
   "id": "2bf3b39f",
   "metadata": {
    "ExecuteTime": {
     "end_time": "2023-03-05T03:48:26.701606Z",
     "start_time": "2023-03-05T03:48:26.701597Z"
    }
   },
   "outputs": [],
   "source": [
    "# Concatenating the age bin dummies back to the original Pandas DataFrame\n",
    "X_pandas = pd.concat([X_pandas, age_dummies_pandas], axis = 1)"
   ]
  },
  {
   "cell_type": "code",
   "execution_count": null,
   "id": "675475b2",
   "metadata": {
    "ExecuteTime": {
     "end_time": "2023-03-05T03:48:26.702261Z",
     "start_time": "2023-03-05T03:48:26.702256Z"
    }
   },
   "outputs": [],
   "source": [
    "# Converting the Polars dummies from a Pandas dataframe to a Polars DataFrame\n",
    "age_dummies_polars = pl.from_pandas(age_dummies_polars)\n",
    "\n",
    "# Concatenating the gender dummies back to the original Polars DataFrame\n",
    "X_polars = pl.concat([X_polars, age_dummies_polars], how = 'horizontal')"
   ]
  },
  {
   "cell_type": "code",
   "execution_count": null,
   "id": "0ae7e38b",
   "metadata": {
    "ExecuteTime": {
     "end_time": "2023-03-05T03:48:26.704273Z",
     "start_time": "2023-03-05T03:48:26.704268Z"
    }
   },
   "outputs": [],
   "source": [
    "# Dropping the original \"Age\" column for each DataFrame\n",
    "X_pandas.drop(columns = ['Age'], inplace = True)\n",
    "X_polars = X_polars.drop(columns = ['Age'])"
   ]
  },
  {
   "cell_type": "code",
   "execution_count": null,
   "id": "5b8101d1",
   "metadata": {
    "ExecuteTime": {
     "end_time": "2023-03-05T03:48:26.705293Z",
     "start_time": "2023-03-05T03:48:26.705283Z"
    }
   },
   "outputs": [],
   "source": [
    "# Viewing the first few rows of the final, feature engineered Pandas DataFrame\n",
    "X_pandas.head()"
   ]
  },
  {
   "cell_type": "code",
   "execution_count": null,
   "id": "a7f641f2",
   "metadata": {
    "ExecuteTime": {
     "end_time": "2023-03-05T03:48:26.706033Z",
     "start_time": "2023-03-05T03:48:26.706023Z"
    }
   },
   "outputs": [],
   "source": [
    "# Viewing the first few rows of the final, feature engineered Pandas DataFrame\n",
    "X_polars.head()"
   ]
  },
  {
   "cell_type": "markdown",
   "id": "7939a00a",
   "metadata": {},
   "source": [
    "## Predictive Modeling with Machine Learning"
   ]
  },
  {
   "cell_type": "markdown",
   "id": "8236b03e",
   "metadata": {},
   "source": [
    "### Performing a Train-Test Split"
   ]
  },
  {
   "cell_type": "code",
   "execution_count": null,
   "id": "a4f5b3f9",
   "metadata": {
    "ExecuteTime": {
     "end_time": "2023-03-05T03:48:26.706899Z",
     "start_time": "2023-03-05T03:48:26.706892Z"
    }
   },
   "outputs": [],
   "source": [
    "# Performing a train-validation split on the Pandas data\n",
    "X_train_pandas, X_val_pandas, y_train_pandas, y_val_pandas = train_test_split(X_pandas, y_pandas, test_size = 0.2, random_state = 42)"
   ]
  },
  {
   "cell_type": "code",
   "execution_count": null,
   "id": "e3b2f878",
   "metadata": {
    "ExecuteTime": {
     "end_time": "2023-03-05T03:48:26.707435Z",
     "start_time": "2023-03-05T03:48:26.707430Z"
    }
   },
   "outputs": [],
   "source": [
    "# Performing a train-validation split on the Polars data\n",
    "X_train_polars, X_val_polars, y_train_polars, y_val_polars = train_test_split(X_polars, y_polars, test_size = 0.2, random_state = 42)"
   ]
  },
  {
   "cell_type": "markdown",
   "id": "96aaf44c",
   "metadata": {},
   "source": [
    "### Performing Model Training"
   ]
  },
  {
   "cell_type": "code",
   "execution_count": null,
   "id": "fa735640",
   "metadata": {
    "ExecuteTime": {
     "end_time": "2023-03-05T03:48:26.708277Z",
     "start_time": "2023-03-05T03:48:26.708271Z"
    }
   },
   "outputs": [],
   "source": [
    "# Instantiating a Random Forest Classifier object for each respective DataFrame\n",
    "rfc_model_pandas = RandomForestClassifier(n_estimators = 50,\n",
    "                                          max_depth = 20,\n",
    "                                          min_samples_split = 10,\n",
    "                                          min_samples_leaf = 2)\n",
    "\n",
    "rfc_model_polars = RandomForestClassifier(n_estimators = 50,\n",
    "                                          max_depth = 20,\n",
    "                                          min_samples_split = 10,\n",
    "                                          min_samples_leaf = 2)"
   ]
  },
  {
   "cell_type": "code",
   "execution_count": null,
   "id": "72dd8f38",
   "metadata": {
    "ExecuteTime": {
     "end_time": "2023-03-05T03:48:26.708763Z",
     "start_time": "2023-03-05T03:48:26.708758Z"
    }
   },
   "outputs": [],
   "source": [
    "# Fitting the Pandas DataFrame to the Random Forest Classifier algorithm\n",
    "rfc_model_pandas.fit(X_train_pandas, y_train_pandas.values.ravel())"
   ]
  },
  {
   "cell_type": "code",
   "execution_count": null,
   "id": "037bb5dc",
   "metadata": {
    "ExecuteTime": {
     "end_time": "2023-03-05T03:48:26.709594Z",
     "start_time": "2023-03-05T03:48:26.709588Z"
    }
   },
   "outputs": [],
   "source": [
    "# Fitting the Polars DataFrame to the Random Forest Classifier algorithm\n",
    "rfc_model_polars.fit(X_train_polars, y_train_polars)"
   ]
  },
  {
   "cell_type": "code",
   "execution_count": null,
   "id": "0035db3b",
   "metadata": {},
   "outputs": [],
   "source": []
  }
 ],
 "metadata": {
  "kernelspec": {
   "display_name": "Python 3 (ipykernel)",
   "language": "python",
   "name": "python3"
  },
  "language_info": {
   "codemirror_mode": {
    "name": "ipython",
    "version": 3
   },
   "file_extension": ".py",
   "mimetype": "text/x-python",
   "name": "python",
   "nbconvert_exporter": "python",
   "pygments_lexer": "ipython3",
   "version": "3.10.7"
  }
 },
 "nbformat": 4,
 "nbformat_minor": 5
}

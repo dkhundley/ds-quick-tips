{
 "cells": [
  {
   "cell_type": "markdown",
   "id": "314c6067",
   "metadata": {},
   "source": [
    "# Data Science Quick Tip #015: Synthesizing Your Own Test Data\n",
    "In this notebook, we'll be sharing how to synthesize your own test data for test purposes. We will cover how to synthesize data for three use cases: binary classification, multiclass classification, and regression."
   ]
  },
  {
   "cell_type": "markdown",
   "id": "c7f25f02",
   "metadata": {},
   "source": [
    "## Project Setup"
   ]
  },
  {
   "cell_type": "code",
   "execution_count": 1,
   "id": "70806b94",
   "metadata": {},
   "outputs": [],
   "source": [
    "# Importing the required Python libraries\n",
    "import pandas as pd\n",
    "from sklearn.datasets import make_blobs, make_classification, make_regression\n",
    "from sklearn.model_selection import train_test_split\n",
    "from sklearn.metrics import accuracy_score, roc_auc_score, f1_score, mean_absolute_error, mean_squared_error, r2_score\n",
    "from sklearn.ensemble import RandomForestClassifier\n",
    "from sklearn.linear_model import LogisticRegression"
   ]
  },
  {
   "cell_type": "markdown",
   "id": "4915e523",
   "metadata": {},
   "source": [
    "## Use Case #1: Binary Classification"
   ]
  },
  {
   "cell_type": "code",
   "execution_count": 19,
   "id": "3c1034be",
   "metadata": {},
   "outputs": [],
   "source": [
    "# Generating synthetic binary classification in the form of arrays\n",
    "X, y = make_classification(n_samples = 10000,\n",
    "                           n_features = 25,\n",
    "                           n_informative = 10,\n",
    "                           n_redundant = 10,\n",
    "                           n_repeated = 5,\n",
    "                           n_classes = 2,\n",
    "                           weights = [0.6, 0.4])"
   ]
  },
  {
   "cell_type": "code",
   "execution_count": 20,
   "id": "7160aa2d",
   "metadata": {},
   "outputs": [],
   "source": [
    "# Transforming the arrays into Pandas DataFrames\n",
    "df_X = pd.DataFrame(data = X)\n",
    "df_y = pd.DataFrame(data = y, columns = ['target'])"
   ]
  },
  {
   "cell_type": "code",
   "execution_count": 21,
   "id": "2a422c2b",
   "metadata": {},
   "outputs": [],
   "source": [
    "# Performing a split on the data to save data as a holdout, validation set\n",
    "X_train, X_val, y_train, y_val = train_test_split(df_X, df_y)"
   ]
  },
  {
   "cell_type": "code",
   "execution_count": 22,
   "id": "32ea8505",
   "metadata": {},
   "outputs": [],
   "source": [
    "# Instantiating the binary classification model with the RandomForestClassifier algorithm\n",
    "binary_classification_model = RandomForestClassifier()"
   ]
  },
  {
   "cell_type": "code",
   "execution_count": 23,
   "id": "20f39ca5",
   "metadata": {},
   "outputs": [
    {
     "name": "stderr",
     "output_type": "stream",
     "text": [
      "C:\\Users\\david\\AppData\\Local\\Temp/ipykernel_7920/4251291611.py:2: DataConversionWarning: A column-vector y was passed when a 1d array was expected. Please change the shape of y to (n_samples,), for example using ravel().\n",
      "  binary_classification_model.fit(X_train, y_train)\n"
     ]
    },
    {
     "data": {
      "text/plain": [
       "RandomForestClassifier()"
      ]
     },
     "execution_count": 23,
     "metadata": {},
     "output_type": "execute_result"
    }
   ],
   "source": [
    "# Training the binary classification model against the training data\n",
    "binary_classification_model.fit(X_train, y_train)"
   ]
  },
  {
   "cell_type": "code",
   "execution_count": 24,
   "id": "08a870a4",
   "metadata": {},
   "outputs": [],
   "source": [
    "# Getting inferential predictions from the validation dataset\n",
    "val_preds = binary_classification_model.predict(X_val)"
   ]
  },
  {
   "cell_type": "code",
   "execution_count": 25,
   "id": "7214f419",
   "metadata": {},
   "outputs": [],
   "source": [
    "# Generating validation metrics by comparing the inferential predictions (val_preds) to the actuals (y_val)\n",
    "val_accuracy = accuracy_score(y_val, val_preds)\n",
    "val_roc_auc_score = roc_auc_score(y_val, val_preds)\n",
    "val_f1_score = f1_score(y_val, val_preds)"
   ]
  },
  {
   "cell_type": "code",
   "execution_count": 26,
   "id": "f1a61d57",
   "metadata": {},
   "outputs": [
    {
     "name": "stdout",
     "output_type": "stream",
     "text": [
      "Accuracy score: 0.9484\n",
      "ROC AUC score: 0.9330565646081993\n",
      "F1 score: 0.9330565646081993\n"
     ]
    }
   ],
   "source": [
    "# Printing out the average validation metrics\n",
    "print(f'Accuracy score: {val_accuracy}')\n",
    "print(f'ROC AUC score: {val_f1_score}')\n",
    "print(f'F1 score: {val_f1_score}')"
   ]
  },
  {
   "cell_type": "code",
   "execution_count": null,
   "id": "e0645cd9",
   "metadata": {},
   "outputs": [],
   "source": []
  }
 ],
 "metadata": {
  "kernelspec": {
   "display_name": "Python 3 (ipykernel)",
   "language": "python",
   "name": "python3"
  },
  "language_info": {
   "codemirror_mode": {
    "name": "ipython",
    "version": 3
   },
   "file_extension": ".py",
   "mimetype": "text/x-python",
   "name": "python",
   "nbconvert_exporter": "python",
   "pygments_lexer": "ipython3",
   "version": "3.10.1"
  }
 },
 "nbformat": 4,
 "nbformat_minor": 5
}
